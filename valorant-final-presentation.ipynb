{
 "cells": [
  {
   "cell_type": "markdown",
   "metadata": {},
   "source": [
    "# Data Anlysis on Valorant Stats"
   ]
  },
  {
   "cell_type": "markdown",
   "metadata": {},
   "source": [
    "Step One: Importing Modules"
   ]
  },
  {
   "cell_type": "code",
   "execution_count": 95,
   "metadata": {},
   "outputs": [],
   "source": [
    "import pandas as pd\n",
    "import matplotlib.pyplot as plt\n",
    "import seaborn as sns\n",
    "import numpy as np"
   ]
  },
  {
   "cell_type": "markdown",
   "metadata": {},
   "source": [
    "Data set from Ironic Ninja on Github: https://github.com/IronicNinja/valorant-stats"
   ]
  },
  {
   "cell_type": "markdown",
   "metadata": {},
   "source": [
    "Step Two: Creating 3 dataframes from the seperate CSVs"
   ]
  },
  {
   "cell_type": "markdown",
   "metadata": {},
   "source": [
    "Dataframe 1: Map Stats"
   ]
  },
  {
   "cell_type": "code",
   "execution_count": 96,
   "metadata": {},
   "outputs": [],
   "source": [
    "# map data\n",
    "tiers = []\n",
    "count = 0\n",
    "maps = pd.DataFrame()\n",
    "\n",
    "for i in range(3, 21):\n",
    "    tiers.append(pd.read_csv(f\"valorant-stats-master/map_data/maps_competitive_tier={i}.csv\"))\n",
    "    tiers[count][\"tier\"] = i\n",
    "    count += 1\n",
    "\n",
    "for dataframe in tiers:\n",
    "     maps = pd.concat([maps,dataframe])\n",
    "\n",
    "tiers.clear()"
   ]
  },
  {
   "cell_type": "markdown",
   "metadata": {},
   "source": [
    "Dataframe 2: Agent Stats. Agents were seperated by maps in folders."
   ]
  },
  {
   "cell_type": "code",
   "execution_count": 97,
   "metadata": {},
   "outputs": [],
   "source": [
    "agents = pd.DataFrame()\n",
    "tiers = []\n",
    "map_names = [\"all\", \"ascent\", \"bind\", \"breeze\", \"haven\", \"split\"]\n",
    "count = 0\n",
    "\n",
    "for j in range(len(map_names)):\n",
    "    for i in range(3, 21):\n",
    "        tiers.append(pd.read_csv(f\"valorant-stats-master/agents_data/{map_names[j]}/agents_competitive_tier={i}.csv\"))\n",
    "        tiers[count][\"tier\"] = i\n",
    "        tiers[count][\"Map Name\"] = map_names[j]\n",
    "        count += 1\n",
    "\n",
    "for dataframe in tiers:\n",
    "    agents = pd.concat([agents, dataframe])\n",
    "\n",
    "tiers.clear()"
   ]
  },
  {
   "cell_type": "markdown",
   "metadata": {},
   "source": [
    "Dataframe 3: Weapon Stats. Weapons were seperated by maps in folders"
   ]
  },
  {
   "cell_type": "code",
   "execution_count": 98,
   "metadata": {},
   "outputs": [],
   "source": [
    "weapons = pd.DataFrame()\n",
    "tiers = []\n",
    "map_names = [\"all\", \"ascent\", \"bind\", \"breeze\", \"haven\", \"split\"]\n",
    "count = 0\n",
    "\n",
    "for j in range(len(map_names)):\n",
    "    for i in range(3, 21):\n",
    "        tiers.append(pd.read_csv(f\"valorant-stats-master/weapons_data/{map_names[j]}/agents_competitive_tier={i}.csv\"))\n",
    "        tiers[count][\"tier\"] = i\n",
    "        tiers[count][\"Map Name\"] = map_names[j]\n",
    "        count += 1\n",
    "\n",
    "for dataframe in tiers:\n",
    "    weapons = pd.concat([weapons, dataframe])\n",
    "\n",
    "tiers.clear()"
   ]
  },
  {
   "cell_type": "markdown",
   "metadata": {},
   "source": [
    "Step Three: EDA"
   ]
  },
  {
   "cell_type": "code",
   "execution_count": 99,
   "metadata": {},
   "outputs": [
    {
     "data": {
      "text/plain": [
       "(108, 7)"
      ]
     },
     "execution_count": 99,
     "metadata": {},
     "output_type": "execute_result"
    }
   ],
   "source": [
    "maps.shape"
   ]
  },
  {
   "cell_type": "code",
   "execution_count": 100,
   "metadata": {},
   "outputs": [
    {
     "data": {
      "text/html": [
       "<div>\n",
       "<style scoped>\n",
       "    .dataframe tbody tr th:only-of-type {\n",
       "        vertical-align: middle;\n",
       "    }\n",
       "\n",
       "    .dataframe tbody tr th {\n",
       "        vertical-align: top;\n",
       "    }\n",
       "\n",
       "    .dataframe thead th {\n",
       "        text-align: right;\n",
       "    }\n",
       "</style>\n",
       "<table border=\"1\" class=\"dataframe\">\n",
       "  <thead>\n",
       "    <tr style=\"text-align: right;\">\n",
       "      <th></th>\n",
       "      <th>Unnamed: 0</th>\n",
       "      <th>Map Name</th>\n",
       "      <th>Play Rate</th>\n",
       "      <th>Atk Win</th>\n",
       "      <th>Def Win</th>\n",
       "      <th>Num Matches</th>\n",
       "      <th>tier</th>\n",
       "    </tr>\n",
       "  </thead>\n",
       "  <tbody>\n",
       "    <tr>\n",
       "      <th>0</th>\n",
       "      <td>0</td>\n",
       "      <td>Icebox</td>\n",
       "      <td>16.5%</td>\n",
       "      <td>51.6%</td>\n",
       "      <td>48.4%</td>\n",
       "      <td>4,743</td>\n",
       "      <td>3</td>\n",
       "    </tr>\n",
       "    <tr>\n",
       "      <th>1</th>\n",
       "      <td>1</td>\n",
       "      <td>Haven</td>\n",
       "      <td>17.2%</td>\n",
       "      <td>51.2%</td>\n",
       "      <td>48.8%</td>\n",
       "      <td>4,947</td>\n",
       "      <td>3</td>\n",
       "    </tr>\n",
       "    <tr>\n",
       "      <th>2</th>\n",
       "      <td>2</td>\n",
       "      <td>Breeze</td>\n",
       "      <td>15.9%</td>\n",
       "      <td>51.2%</td>\n",
       "      <td>48.8%</td>\n",
       "      <td>4,590</td>\n",
       "      <td>3</td>\n",
       "    </tr>\n",
       "    <tr>\n",
       "      <th>3</th>\n",
       "      <td>3</td>\n",
       "      <td>Bind</td>\n",
       "      <td>18.4%</td>\n",
       "      <td>50.9%</td>\n",
       "      <td>49.1%</td>\n",
       "      <td>5,304</td>\n",
       "      <td>3</td>\n",
       "    </tr>\n",
       "    <tr>\n",
       "      <th>4</th>\n",
       "      <td>4</td>\n",
       "      <td>Ascent</td>\n",
       "      <td>13.6%</td>\n",
       "      <td>48.2%</td>\n",
       "      <td>51.8%</td>\n",
       "      <td>3,927</td>\n",
       "      <td>3</td>\n",
       "    </tr>\n",
       "  </tbody>\n",
       "</table>\n",
       "</div>"
      ],
      "text/plain": [
       "   Unnamed: 0 Map Name Play Rate Atk Win Def Win Num Matches  tier\n",
       "0           0   Icebox     16.5%   51.6%   48.4%       4,743     3\n",
       "1           1    Haven     17.2%   51.2%   48.8%       4,947     3\n",
       "2           2   Breeze     15.9%   51.2%   48.8%       4,590     3\n",
       "3           3     Bind     18.4%   50.9%   49.1%       5,304     3\n",
       "4           4   Ascent     13.6%   48.2%   51.8%       3,927     3"
      ]
     },
     "execution_count": 100,
     "metadata": {},
     "output_type": "execute_result"
    }
   ],
   "source": [
    "maps.head()"
   ]
  },
  {
   "cell_type": "code",
   "execution_count": 101,
   "metadata": {},
   "outputs": [
    {
     "data": {
      "text/plain": [
       "(1513, 13)"
      ]
     },
     "execution_count": 101,
     "metadata": {},
     "output_type": "execute_result"
    }
   ],
   "source": [
    "agents.shape"
   ]
  },
  {
   "cell_type": "code",
   "execution_count": 102,
   "metadata": {},
   "outputs": [
    {
     "data": {
      "text/html": [
       "<div>\n",
       "<style scoped>\n",
       "    .dataframe tbody tr th:only-of-type {\n",
       "        vertical-align: middle;\n",
       "    }\n",
       "\n",
       "    .dataframe tbody tr th {\n",
       "        vertical-align: top;\n",
       "    }\n",
       "\n",
       "    .dataframe thead th {\n",
       "        text-align: right;\n",
       "    }\n",
       "</style>\n",
       "<table border=\"1\" class=\"dataframe\">\n",
       "  <thead>\n",
       "    <tr style=\"text-align: right;\">\n",
       "      <th></th>\n",
       "      <th>Unnamed: 0</th>\n",
       "      <th>Agent Name</th>\n",
       "      <th>KD</th>\n",
       "      <th>Kills</th>\n",
       "      <th>Deaths</th>\n",
       "      <th>Assists</th>\n",
       "      <th>Win Rate</th>\n",
       "      <th>Pick Rate</th>\n",
       "      <th>ACS</th>\n",
       "      <th>First Blood</th>\n",
       "      <th>Num Matches</th>\n",
       "      <th>tier</th>\n",
       "      <th>Map Name</th>\n",
       "    </tr>\n",
       "  </thead>\n",
       "  <tbody>\n",
       "    <tr>\n",
       "      <th>0</th>\n",
       "      <td>0</td>\n",
       "      <td>Sage</td>\n",
       "      <td>0.78</td>\n",
       "      <td>11.5</td>\n",
       "      <td>14.7</td>\n",
       "      <td>4.2</td>\n",
       "      <td>51.9%</td>\n",
       "      <td>18.8%</td>\n",
       "      <td>164</td>\n",
       "      <td>11.7%</td>\n",
       "      <td>9,231</td>\n",
       "      <td>3</td>\n",
       "      <td>all</td>\n",
       "    </tr>\n",
       "    <tr>\n",
       "      <th>1</th>\n",
       "      <td>1</td>\n",
       "      <td>Raze</td>\n",
       "      <td>0.9</td>\n",
       "      <td>13.1</td>\n",
       "      <td>14.6</td>\n",
       "      <td>4.3</td>\n",
       "      <td>44.2%</td>\n",
       "      <td>11.7%</td>\n",
       "      <td>207</td>\n",
       "      <td>13.9%</td>\n",
       "      <td>5,763</td>\n",
       "      <td>3</td>\n",
       "      <td>all</td>\n",
       "    </tr>\n",
       "    <tr>\n",
       "      <th>2</th>\n",
       "      <td>2</td>\n",
       "      <td>Jett</td>\n",
       "      <td>1.01</td>\n",
       "      <td>14.3</td>\n",
       "      <td>14.1</td>\n",
       "      <td>4.1</td>\n",
       "      <td>53.8%</td>\n",
       "      <td>10.8%</td>\n",
       "      <td>210</td>\n",
       "      <td>15.2%</td>\n",
       "      <td>5,304</td>\n",
       "      <td>3</td>\n",
       "      <td>all</td>\n",
       "    </tr>\n",
       "    <tr>\n",
       "      <th>3</th>\n",
       "      <td>3</td>\n",
       "      <td>Reyna</td>\n",
       "      <td>1.01</td>\n",
       "      <td>14.7</td>\n",
       "      <td>14.6</td>\n",
       "      <td>3.9</td>\n",
       "      <td>48.5%</td>\n",
       "      <td>10.3%</td>\n",
       "      <td>224</td>\n",
       "      <td>14.7%</td>\n",
       "      <td>5,049</td>\n",
       "      <td>3</td>\n",
       "      <td>all</td>\n",
       "    </tr>\n",
       "    <tr>\n",
       "      <th>4</th>\n",
       "      <td>4</td>\n",
       "      <td>Viper</td>\n",
       "      <td>0.8</td>\n",
       "      <td>11.0</td>\n",
       "      <td>13.9</td>\n",
       "      <td>4.3</td>\n",
       "      <td>49.3%</td>\n",
       "      <td>6.9%</td>\n",
       "      <td>165</td>\n",
       "      <td>11.8%</td>\n",
       "      <td>3,417</td>\n",
       "      <td>3</td>\n",
       "      <td>all</td>\n",
       "    </tr>\n",
       "  </tbody>\n",
       "</table>\n",
       "</div>"
      ],
      "text/plain": [
       "  Unnamed: 0 Agent Name    KD Kills Deaths Assists Win Rate Pick Rate  ACS  \\\n",
       "0          0       Sage  0.78  11.5   14.7     4.2    51.9%     18.8%  164   \n",
       "1          1       Raze   0.9  13.1   14.6     4.3    44.2%     11.7%  207   \n",
       "2          2       Jett  1.01  14.3   14.1     4.1    53.8%     10.8%  210   \n",
       "3          3      Reyna  1.01  14.7   14.6     3.9    48.5%     10.3%  224   \n",
       "4          4      Viper   0.8  11.0   13.9     4.3    49.3%      6.9%  165   \n",
       "\n",
       "  First Blood Num Matches  tier Map Name  \n",
       "0       11.7%       9,231     3      all  \n",
       "1       13.9%       5,763     3      all  \n",
       "2       15.2%       5,304     3      all  \n",
       "3       14.7%       5,049     3      all  \n",
       "4       11.8%       3,417     3      all  "
      ]
     },
     "execution_count": 102,
     "metadata": {},
     "output_type": "execute_result"
    }
   ],
   "source": [
    "agents.head()"
   ]
  },
  {
   "cell_type": "code",
   "execution_count": 103,
   "metadata": {},
   "outputs": [
    {
     "data": {
      "text/plain": [
       "(1800, 9)"
      ]
     },
     "execution_count": 103,
     "metadata": {},
     "output_type": "execute_result"
    }
   ],
   "source": [
    "weapons.shape"
   ]
  },
  {
   "cell_type": "code",
   "execution_count": 104,
   "metadata": {},
   "outputs": [
    {
     "data": {
      "text/html": [
       "<div>\n",
       "<style scoped>\n",
       "    .dataframe tbody tr th:only-of-type {\n",
       "        vertical-align: middle;\n",
       "    }\n",
       "\n",
       "    .dataframe tbody tr th {\n",
       "        vertical-align: top;\n",
       "    }\n",
       "\n",
       "    .dataframe thead th {\n",
       "        text-align: right;\n",
       "    }\n",
       "</style>\n",
       "<table border=\"1\" class=\"dataframe\">\n",
       "  <thead>\n",
       "    <tr style=\"text-align: right;\">\n",
       "      <th></th>\n",
       "      <th>Unnamed: 0</th>\n",
       "      <th>Weapon Name</th>\n",
       "      <th>Kills Per Match</th>\n",
       "      <th>Headshot</th>\n",
       "      <th>Bodyshot</th>\n",
       "      <th>Legshot</th>\n",
       "      <th>Damage Per Round</th>\n",
       "      <th>tier</th>\n",
       "      <th>Map Name</th>\n",
       "    </tr>\n",
       "  </thead>\n",
       "  <tbody>\n",
       "    <tr>\n",
       "      <th>0</th>\n",
       "      <td>0</td>\n",
       "      <td>Vandal</td>\n",
       "      <td>6.4</td>\n",
       "      <td>12%</td>\n",
       "      <td>72.6%</td>\n",
       "      <td>15.3%</td>\n",
       "      <td>120</td>\n",
       "      <td>3</td>\n",
       "      <td>all</td>\n",
       "    </tr>\n",
       "    <tr>\n",
       "      <th>1</th>\n",
       "      <td>1</td>\n",
       "      <td>Phantom</td>\n",
       "      <td>5.3</td>\n",
       "      <td>11%</td>\n",
       "      <td>72.3%</td>\n",
       "      <td>16.6%</td>\n",
       "      <td>116</td>\n",
       "      <td>3</td>\n",
       "      <td>all</td>\n",
       "    </tr>\n",
       "    <tr>\n",
       "      <th>2</th>\n",
       "      <td>2</td>\n",
       "      <td>Spectre</td>\n",
       "      <td>4.5</td>\n",
       "      <td>10.1%</td>\n",
       "      <td>73.4%</td>\n",
       "      <td>16.6%</td>\n",
       "      <td>93</td>\n",
       "      <td>3</td>\n",
       "      <td>all</td>\n",
       "    </tr>\n",
       "    <tr>\n",
       "      <th>3</th>\n",
       "      <td>3</td>\n",
       "      <td>Ares</td>\n",
       "      <td>3.4</td>\n",
       "      <td>7.1%</td>\n",
       "      <td>68.6%</td>\n",
       "      <td>24.4%</td>\n",
       "      <td>95</td>\n",
       "      <td>3</td>\n",
       "      <td>all</td>\n",
       "    </tr>\n",
       "    <tr>\n",
       "      <th>4</th>\n",
       "      <td>4</td>\n",
       "      <td>Odin</td>\n",
       "      <td>3.0</td>\n",
       "      <td>8.3%</td>\n",
       "      <td>69.9%</td>\n",
       "      <td>21.8%</td>\n",
       "      <td>112</td>\n",
       "      <td>3</td>\n",
       "      <td>all</td>\n",
       "    </tr>\n",
       "  </tbody>\n",
       "</table>\n",
       "</div>"
      ],
      "text/plain": [
       "   Unnamed: 0 Weapon Name  Kills Per Match Headshot Bodyshot Legshot  \\\n",
       "0           0      Vandal              6.4      12%    72.6%   15.3%   \n",
       "1           1     Phantom              5.3      11%    72.3%   16.6%   \n",
       "2           2     Spectre              4.5    10.1%    73.4%   16.6%   \n",
       "3           3        Ares              3.4     7.1%    68.6%   24.4%   \n",
       "4           4        Odin              3.0     8.3%    69.9%   21.8%   \n",
       "\n",
       "   Damage Per Round  tier Map Name  \n",
       "0               120     3      all  \n",
       "1               116     3      all  \n",
       "2                93     3      all  \n",
       "3                95     3      all  \n",
       "4               112     3      all  "
      ]
     },
     "execution_count": 104,
     "metadata": {},
     "output_type": "execute_result"
    }
   ],
   "source": [
    "weapons.head()"
   ]
  },
  {
   "cell_type": "markdown",
   "metadata": {},
   "source": [
    "Clean Up"
   ]
  },
  {
   "cell_type": "markdown",
   "metadata": {},
   "source": [
    "Looking for NaNs"
   ]
  },
  {
   "cell_type": "code",
   "execution_count": 105,
   "metadata": {},
   "outputs": [
    {
     "data": {
      "text/plain": [
       "Unnamed: 0     0\n",
       "Map Name       0\n",
       "Play Rate      0\n",
       "Atk Win        0\n",
       "Def Win        0\n",
       "Num Matches    0\n",
       "tier           0\n",
       "dtype: int64"
      ]
     },
     "execution_count": 105,
     "metadata": {},
     "output_type": "execute_result"
    }
   ],
   "source": [
    "maps.isna().sum()"
   ]
  },
  {
   "cell_type": "code",
   "execution_count": 106,
   "metadata": {},
   "outputs": [
    {
     "data": {
      "text/plain": [
       "Unnamed: 0     0\n",
       "Agent Name     0\n",
       "KD             0\n",
       "Kills          0\n",
       "Deaths         0\n",
       "Assists        0\n",
       "Win Rate       0\n",
       "Pick Rate      0\n",
       "ACS            0\n",
       "First Blood    0\n",
       "Num Matches    0\n",
       "tier           0\n",
       "Map Name       0\n",
       "dtype: int64"
      ]
     },
     "execution_count": 106,
     "metadata": {},
     "output_type": "execute_result"
    }
   ],
   "source": [
    "agents.isna().sum()"
   ]
  },
  {
   "cell_type": "code",
   "execution_count": 107,
   "metadata": {},
   "outputs": [
    {
     "data": {
      "text/plain": [
       "Unnamed: 0          0\n",
       "Weapon Name         0\n",
       "Kills Per Match     0\n",
       "Headshot            0\n",
       "Bodyshot            0\n",
       "Legshot             0\n",
       "Damage Per Round    0\n",
       "tier                0\n",
       "Map Name            0\n",
       "dtype: int64"
      ]
     },
     "execution_count": 107,
     "metadata": {},
     "output_type": "execute_result"
    }
   ],
   "source": [
    "weapons.isna().sum()"
   ]
  },
  {
   "cell_type": "markdown",
   "metadata": {},
   "source": [
    "Checking Types"
   ]
  },
  {
   "cell_type": "code",
   "execution_count": 108,
   "metadata": {},
   "outputs": [
    {
     "data": {
      "text/plain": [
       "Unnamed: 0      int64\n",
       "Map Name       object\n",
       "Play Rate      object\n",
       "Atk Win        object\n",
       "Def Win        object\n",
       "Num Matches    object\n",
       "tier            int64\n",
       "dtype: object"
      ]
     },
     "execution_count": 108,
     "metadata": {},
     "output_type": "execute_result"
    }
   ],
   "source": [
    "maps.dtypes"
   ]
  },
  {
   "cell_type": "code",
   "execution_count": 109,
   "metadata": {},
   "outputs": [
    {
     "data": {
      "text/plain": [
       "Unnamed: 0     object\n",
       "Agent Name     object\n",
       "KD             object\n",
       "Kills          object\n",
       "Deaths         object\n",
       "Assists        object\n",
       "Win Rate       object\n",
       "Pick Rate      object\n",
       "ACS            object\n",
       "First Blood    object\n",
       "Num Matches    object\n",
       "tier            int64\n",
       "Map Name       object\n",
       "dtype: object"
      ]
     },
     "execution_count": 109,
     "metadata": {},
     "output_type": "execute_result"
    }
   ],
   "source": [
    "agents.dtypes"
   ]
  },
  {
   "cell_type": "code",
   "execution_count": 110,
   "metadata": {},
   "outputs": [
    {
     "data": {
      "text/plain": [
       "Unnamed: 0            int64\n",
       "Weapon Name          object\n",
       "Kills Per Match     float64\n",
       "Headshot             object\n",
       "Bodyshot             object\n",
       "Legshot              object\n",
       "Damage Per Round      int64\n",
       "tier                  int64\n",
       "Map Name             object\n",
       "dtype: object"
      ]
     },
     "execution_count": 110,
     "metadata": {},
     "output_type": "execute_result"
    }
   ],
   "source": [
    "weapons.dtypes"
   ]
  },
  {
   "cell_type": "markdown",
   "metadata": {},
   "source": [
    "Replacing strings to allow conversion to numeric columns"
   ]
  },
  {
   "cell_type": "code",
   "execution_count": 111,
   "metadata": {},
   "outputs": [],
   "source": [
    "columns_to_fix = [\"Play Rate\", \"Atk Win\", \"Def Win\"]\n",
    "for i in columns_to_fix:\n",
    "    maps[i] = maps[i].str.replace(\"%\",\"\")\n",
    "maps[\"Num Matches\"] = maps[\"Num Matches\"].str.replace(\",\",\"\")"
   ]
  },
  {
   "cell_type": "code",
   "execution_count": 112,
   "metadata": {},
   "outputs": [],
   "source": [
    "columns_to_fix = [\"Win Rate\", \"Pick Rate\", \"First Blood\"]\n",
    "for i in columns_to_fix:\n",
    "    agents[i] = agents[i].str.replace(\"%\",\"\")\n",
    "agents[\"Num Matches\"] = agents[\"Num Matches\"].str.replace(\",\",\"\")"
   ]
  },
  {
   "cell_type": "code",
   "execution_count": 113,
   "metadata": {},
   "outputs": [],
   "source": [
    "columns_to_fix = [\"Headshot\",\"Bodyshot\",\"Legshot\"]\n",
    "for i in columns_to_fix:\n",
    "    weapons[i] = weapons[i].str.replace(\"%\",\"\")"
   ]
  },
  {
   "cell_type": "markdown",
   "metadata": {},
   "source": [
    "Converting to numeric columns"
   ]
  },
  {
   "cell_type": "code",
   "execution_count": 114,
   "metadata": {},
   "outputs": [
    {
     "data": {
      "text/plain": [
       "Unnamed: 0       int64\n",
       "Map Name        object\n",
       "Play Rate      float64\n",
       "Atk Win        float64\n",
       "Def Win        float64\n",
       "Num Matches    float64\n",
       "tier             int64\n",
       "dtype: object"
      ]
     },
     "execution_count": 114,
     "metadata": {},
     "output_type": "execute_result"
    }
   ],
   "source": [
    "columns_to_convert = [\"Play Rate\", \"Atk Win\", \"Def Win\", \"Num Matches\"]\n",
    "for i in columns_to_convert:\n",
    "    maps[i] = pd.to_numeric(maps[i])\n",
    "\n",
    "maps.dtypes"
   ]
  },
  {
   "cell_type": "code",
   "execution_count": 115,
   "metadata": {},
   "outputs": [
    {
     "data": {
      "text/plain": [
       "Unnamed: 0      object\n",
       "Agent Name      object\n",
       "KD             float64\n",
       "Kills          float64\n",
       "Deaths         float64\n",
       "Assists        float64\n",
       "Win Rate       float64\n",
       "Pick Rate      float64\n",
       "ACS              int64\n",
       "First Blood    float64\n",
       "Num Matches    float64\n",
       "tier             int64\n",
       "Map Name        object\n",
       "dtype: object"
      ]
     },
     "execution_count": 115,
     "metadata": {},
     "output_type": "execute_result"
    }
   ],
   "source": [
    "columns_to_convert = [\"KD\", \"Kills\", \"Deaths\", \"Assists\", \"Win Rate\", \"Pick Rate\", \"ACS\", \"First Blood\", \"Num Matches\"]\n",
    "for i in columns_to_convert:\n",
    "    agents[i] = pd.to_numeric(agents[i])\n",
    "\n",
    "agents.dtypes"
   ]
  },
  {
   "cell_type": "code",
   "execution_count": 116,
   "metadata": {},
   "outputs": [
    {
     "data": {
      "text/plain": [
       "Unnamed: 0            int64\n",
       "Weapon Name          object\n",
       "Kills Per Match     float64\n",
       "Headshot            float64\n",
       "Bodyshot            float64\n",
       "Legshot             float64\n",
       "Damage Per Round      int64\n",
       "tier                  int64\n",
       "Map Name             object\n",
       "dtype: object"
      ]
     },
     "execution_count": 116,
     "metadata": {},
     "output_type": "execute_result"
    }
   ],
   "source": [
    "columns_to_convert = [\"Kills Per Match\", \"Headshot\", \"Bodyshot\", \"Legshot\", \"Damage Per Round\"]\n",
    "for i in columns_to_convert:\n",
    "    weapons[i] = pd.to_numeric(weapons[i])\n",
    "\n",
    "weapons.dtypes"
   ]
  },
  {
   "cell_type": "markdown",
   "metadata": {},
   "source": [
    "Dropping the Unnamed: 0 column"
   ]
  },
  {
   "cell_type": "code",
   "execution_count": 117,
   "metadata": {},
   "outputs": [],
   "source": [
    "maps.drop(\"Unnamed: 0\", axis=1, inplace=True)\n",
    "agents.drop(\"Unnamed: 0\", axis=1, inplace=True)\n",
    "weapons.drop(\"Unnamed: 0\", axis=1, inplace=True)"
   ]
  },
  {
   "cell_type": "code",
   "execution_count": 118,
   "metadata": {},
   "outputs": [
    {
     "data": {
      "text/html": [
       "<div>\n",
       "<style scoped>\n",
       "    .dataframe tbody tr th:only-of-type {\n",
       "        vertical-align: middle;\n",
       "    }\n",
       "\n",
       "    .dataframe tbody tr th {\n",
       "        vertical-align: top;\n",
       "    }\n",
       "\n",
       "    .dataframe thead th {\n",
       "        text-align: right;\n",
       "    }\n",
       "</style>\n",
       "<table border=\"1\" class=\"dataframe\">\n",
       "  <thead>\n",
       "    <tr style=\"text-align: right;\">\n",
       "      <th></th>\n",
       "      <th>Map Name</th>\n",
       "      <th>Play Rate</th>\n",
       "      <th>Atk Win</th>\n",
       "      <th>Def Win</th>\n",
       "      <th>Num Matches</th>\n",
       "      <th>tier</th>\n",
       "    </tr>\n",
       "  </thead>\n",
       "  <tbody>\n",
       "    <tr>\n",
       "      <th>0</th>\n",
       "      <td>Icebox</td>\n",
       "      <td>16.5</td>\n",
       "      <td>51.6</td>\n",
       "      <td>48.4</td>\n",
       "      <td>4743.0</td>\n",
       "      <td>3</td>\n",
       "    </tr>\n",
       "    <tr>\n",
       "      <th>1</th>\n",
       "      <td>Haven</td>\n",
       "      <td>17.2</td>\n",
       "      <td>51.2</td>\n",
       "      <td>48.8</td>\n",
       "      <td>4947.0</td>\n",
       "      <td>3</td>\n",
       "    </tr>\n",
       "    <tr>\n",
       "      <th>2</th>\n",
       "      <td>Breeze</td>\n",
       "      <td>15.9</td>\n",
       "      <td>51.2</td>\n",
       "      <td>48.8</td>\n",
       "      <td>4590.0</td>\n",
       "      <td>3</td>\n",
       "    </tr>\n",
       "    <tr>\n",
       "      <th>3</th>\n",
       "      <td>Bind</td>\n",
       "      <td>18.4</td>\n",
       "      <td>50.9</td>\n",
       "      <td>49.1</td>\n",
       "      <td>5304.0</td>\n",
       "      <td>3</td>\n",
       "    </tr>\n",
       "    <tr>\n",
       "      <th>4</th>\n",
       "      <td>Ascent</td>\n",
       "      <td>13.6</td>\n",
       "      <td>48.2</td>\n",
       "      <td>51.8</td>\n",
       "      <td>3927.0</td>\n",
       "      <td>3</td>\n",
       "    </tr>\n",
       "  </tbody>\n",
       "</table>\n",
       "</div>"
      ],
      "text/plain": [
       "  Map Name  Play Rate  Atk Win  Def Win  Num Matches  tier\n",
       "0   Icebox       16.5     51.6     48.4       4743.0     3\n",
       "1    Haven       17.2     51.2     48.8       4947.0     3\n",
       "2   Breeze       15.9     51.2     48.8       4590.0     3\n",
       "3     Bind       18.4     50.9     49.1       5304.0     3\n",
       "4   Ascent       13.6     48.2     51.8       3927.0     3"
      ]
     },
     "execution_count": 118,
     "metadata": {},
     "output_type": "execute_result"
    }
   ],
   "source": [
    "maps.head()"
   ]
  },
  {
   "cell_type": "code",
   "execution_count": 119,
   "metadata": {},
   "outputs": [
    {
     "data": {
      "text/html": [
       "<div>\n",
       "<style scoped>\n",
       "    .dataframe tbody tr th:only-of-type {\n",
       "        vertical-align: middle;\n",
       "    }\n",
       "\n",
       "    .dataframe tbody tr th {\n",
       "        vertical-align: top;\n",
       "    }\n",
       "\n",
       "    .dataframe thead th {\n",
       "        text-align: right;\n",
       "    }\n",
       "</style>\n",
       "<table border=\"1\" class=\"dataframe\">\n",
       "  <thead>\n",
       "    <tr style=\"text-align: right;\">\n",
       "      <th></th>\n",
       "      <th>Agent Name</th>\n",
       "      <th>KD</th>\n",
       "      <th>Kills</th>\n",
       "      <th>Deaths</th>\n",
       "      <th>Assists</th>\n",
       "      <th>Win Rate</th>\n",
       "      <th>Pick Rate</th>\n",
       "      <th>ACS</th>\n",
       "      <th>First Blood</th>\n",
       "      <th>Num Matches</th>\n",
       "      <th>tier</th>\n",
       "      <th>Map Name</th>\n",
       "    </tr>\n",
       "  </thead>\n",
       "  <tbody>\n",
       "    <tr>\n",
       "      <th>0</th>\n",
       "      <td>Sage</td>\n",
       "      <td>0.78</td>\n",
       "      <td>11.5</td>\n",
       "      <td>14.7</td>\n",
       "      <td>4.2</td>\n",
       "      <td>51.9</td>\n",
       "      <td>18.8</td>\n",
       "      <td>164</td>\n",
       "      <td>11.7</td>\n",
       "      <td>9231.0</td>\n",
       "      <td>3</td>\n",
       "      <td>all</td>\n",
       "    </tr>\n",
       "    <tr>\n",
       "      <th>1</th>\n",
       "      <td>Raze</td>\n",
       "      <td>0.90</td>\n",
       "      <td>13.1</td>\n",
       "      <td>14.6</td>\n",
       "      <td>4.3</td>\n",
       "      <td>44.2</td>\n",
       "      <td>11.7</td>\n",
       "      <td>207</td>\n",
       "      <td>13.9</td>\n",
       "      <td>5763.0</td>\n",
       "      <td>3</td>\n",
       "      <td>all</td>\n",
       "    </tr>\n",
       "    <tr>\n",
       "      <th>2</th>\n",
       "      <td>Jett</td>\n",
       "      <td>1.01</td>\n",
       "      <td>14.3</td>\n",
       "      <td>14.1</td>\n",
       "      <td>4.1</td>\n",
       "      <td>53.8</td>\n",
       "      <td>10.8</td>\n",
       "      <td>210</td>\n",
       "      <td>15.2</td>\n",
       "      <td>5304.0</td>\n",
       "      <td>3</td>\n",
       "      <td>all</td>\n",
       "    </tr>\n",
       "    <tr>\n",
       "      <th>3</th>\n",
       "      <td>Reyna</td>\n",
       "      <td>1.01</td>\n",
       "      <td>14.7</td>\n",
       "      <td>14.6</td>\n",
       "      <td>3.9</td>\n",
       "      <td>48.5</td>\n",
       "      <td>10.3</td>\n",
       "      <td>224</td>\n",
       "      <td>14.7</td>\n",
       "      <td>5049.0</td>\n",
       "      <td>3</td>\n",
       "      <td>all</td>\n",
       "    </tr>\n",
       "    <tr>\n",
       "      <th>4</th>\n",
       "      <td>Viper</td>\n",
       "      <td>0.80</td>\n",
       "      <td>11.0</td>\n",
       "      <td>13.9</td>\n",
       "      <td>4.3</td>\n",
       "      <td>49.3</td>\n",
       "      <td>6.9</td>\n",
       "      <td>165</td>\n",
       "      <td>11.8</td>\n",
       "      <td>3417.0</td>\n",
       "      <td>3</td>\n",
       "      <td>all</td>\n",
       "    </tr>\n",
       "  </tbody>\n",
       "</table>\n",
       "</div>"
      ],
      "text/plain": [
       "  Agent Name    KD  Kills  Deaths  Assists  Win Rate  Pick Rate  ACS  \\\n",
       "0       Sage  0.78   11.5    14.7      4.2      51.9       18.8  164   \n",
       "1       Raze  0.90   13.1    14.6      4.3      44.2       11.7  207   \n",
       "2       Jett  1.01   14.3    14.1      4.1      53.8       10.8  210   \n",
       "3      Reyna  1.01   14.7    14.6      3.9      48.5       10.3  224   \n",
       "4      Viper  0.80   11.0    13.9      4.3      49.3        6.9  165   \n",
       "\n",
       "   First Blood  Num Matches  tier Map Name  \n",
       "0         11.7       9231.0     3      all  \n",
       "1         13.9       5763.0     3      all  \n",
       "2         15.2       5304.0     3      all  \n",
       "3         14.7       5049.0     3      all  \n",
       "4         11.8       3417.0     3      all  "
      ]
     },
     "execution_count": 119,
     "metadata": {},
     "output_type": "execute_result"
    }
   ],
   "source": [
    "agents.head()"
   ]
  },
  {
   "cell_type": "code",
   "execution_count": 120,
   "metadata": {},
   "outputs": [
    {
     "data": {
      "text/html": [
       "<div>\n",
       "<style scoped>\n",
       "    .dataframe tbody tr th:only-of-type {\n",
       "        vertical-align: middle;\n",
       "    }\n",
       "\n",
       "    .dataframe tbody tr th {\n",
       "        vertical-align: top;\n",
       "    }\n",
       "\n",
       "    .dataframe thead th {\n",
       "        text-align: right;\n",
       "    }\n",
       "</style>\n",
       "<table border=\"1\" class=\"dataframe\">\n",
       "  <thead>\n",
       "    <tr style=\"text-align: right;\">\n",
       "      <th></th>\n",
       "      <th>Weapon Name</th>\n",
       "      <th>Kills Per Match</th>\n",
       "      <th>Headshot</th>\n",
       "      <th>Bodyshot</th>\n",
       "      <th>Legshot</th>\n",
       "      <th>Damage Per Round</th>\n",
       "      <th>tier</th>\n",
       "      <th>Map Name</th>\n",
       "    </tr>\n",
       "  </thead>\n",
       "  <tbody>\n",
       "    <tr>\n",
       "      <th>0</th>\n",
       "      <td>Vandal</td>\n",
       "      <td>6.4</td>\n",
       "      <td>12.0</td>\n",
       "      <td>72.6</td>\n",
       "      <td>15.3</td>\n",
       "      <td>120</td>\n",
       "      <td>3</td>\n",
       "      <td>all</td>\n",
       "    </tr>\n",
       "    <tr>\n",
       "      <th>1</th>\n",
       "      <td>Phantom</td>\n",
       "      <td>5.3</td>\n",
       "      <td>11.0</td>\n",
       "      <td>72.3</td>\n",
       "      <td>16.6</td>\n",
       "      <td>116</td>\n",
       "      <td>3</td>\n",
       "      <td>all</td>\n",
       "    </tr>\n",
       "    <tr>\n",
       "      <th>2</th>\n",
       "      <td>Spectre</td>\n",
       "      <td>4.5</td>\n",
       "      <td>10.1</td>\n",
       "      <td>73.4</td>\n",
       "      <td>16.6</td>\n",
       "      <td>93</td>\n",
       "      <td>3</td>\n",
       "      <td>all</td>\n",
       "    </tr>\n",
       "    <tr>\n",
       "      <th>3</th>\n",
       "      <td>Ares</td>\n",
       "      <td>3.4</td>\n",
       "      <td>7.1</td>\n",
       "      <td>68.6</td>\n",
       "      <td>24.4</td>\n",
       "      <td>95</td>\n",
       "      <td>3</td>\n",
       "      <td>all</td>\n",
       "    </tr>\n",
       "    <tr>\n",
       "      <th>4</th>\n",
       "      <td>Odin</td>\n",
       "      <td>3.0</td>\n",
       "      <td>8.3</td>\n",
       "      <td>69.9</td>\n",
       "      <td>21.8</td>\n",
       "      <td>112</td>\n",
       "      <td>3</td>\n",
       "      <td>all</td>\n",
       "    </tr>\n",
       "  </tbody>\n",
       "</table>\n",
       "</div>"
      ],
      "text/plain": [
       "  Weapon Name  Kills Per Match  Headshot  Bodyshot  Legshot  Damage Per Round  \\\n",
       "0      Vandal              6.4      12.0      72.6     15.3               120   \n",
       "1     Phantom              5.3      11.0      72.3     16.6               116   \n",
       "2     Spectre              4.5      10.1      73.4     16.6                93   \n",
       "3        Ares              3.4       7.1      68.6     24.4                95   \n",
       "4        Odin              3.0       8.3      69.9     21.8               112   \n",
       "\n",
       "   tier Map Name  \n",
       "0     3      all  \n",
       "1     3      all  \n",
       "2     3      all  \n",
       "3     3      all  \n",
       "4     3      all  "
      ]
     },
     "execution_count": 120,
     "metadata": {},
     "output_type": "execute_result"
    }
   ],
   "source": [
    "weapons.head()"
   ]
  },
  {
   "cell_type": "markdown",
   "metadata": {},
   "source": [
    "Step Four: Questions"
   ]
  },
  {
   "cell_type": "markdown",
   "metadata": {},
   "source": [
    "Map Centered Questions"
   ]
  },
  {
   "cell_type": "markdown",
   "metadata": {},
   "source": [
    "1. What is the average play rate for each map?"
   ]
  },
  {
   "cell_type": "code",
   "execution_count": 121,
   "metadata": {},
   "outputs": [
    {
     "data": {
      "text/plain": [
       "Map Name\n",
       "Ascent    17.861111\n",
       "Bind      17.494444\n",
       "Breeze    13.477778\n",
       "Haven     17.300000\n",
       "Icebox    16.638889\n",
       "Split     17.194444\n",
       "Name: Play Rate, dtype: float64"
      ]
     },
     "execution_count": 121,
     "metadata": {},
     "output_type": "execute_result"
    }
   ],
   "source": [
    "maps.groupby(\"Map Name\")[\"Play Rate\"].mean()"
   ]
  },
  {
   "cell_type": "markdown",
   "metadata": {},
   "source": [
    "2. What is the attack win rate vs defense win rate for each map?"
   ]
  },
  {
   "cell_type": "code",
   "execution_count": 122,
   "metadata": {},
   "outputs": [
    {
     "data": {
      "image/png": "[encoded data removed]",
      "text/plain": [
       "<Figure size 576x576 with 1 Axes>"
      ]
     },
     "metadata": {},
     "output_type": "display_data"
    }
   ],
   "source": [
    "figure, axis = plt.subplots(figsize=(8, 8));\n",
    "maps.groupby(\"Map Name\")[\"Def Win\"].mean().plot(kind='bar', color=\"#E0B0FF\", stacked=True);\n",
    "maps.groupby(\"Map Name\")[\"Atk Win\"].mean().plot(kind='bar', color='purple', stacked=True);\n",
    "plt.ylabel(\"Percentage Won or Lost\");\n",
    "plt.title(\"Attack vs Defense Winning Percentage for Each Map\");\n",
    "plt.legend();"
   ]
  },
  {
   "cell_type": "markdown",
   "metadata": {},
   "source": [
    "Weapon Centered Questions"
   ]
  },
  {
   "cell_type": "markdown",
   "metadata": {},
   "source": [
    "3. Which weapon has the most kills per match on average?"
   ]
  },
  {
   "cell_type": "code",
   "execution_count": 123,
   "metadata": {},
   "outputs": [
    {
     "data": {
      "text/plain": [
       "Weapon Name\n",
       "Vandal      10.212963\n",
       "Phantom      6.346296\n",
       "Spectre      3.256481\n",
       "Operator     3.201869\n",
       "Odin         2.523000\n",
       "Ghost        2.210185\n",
       "Ares         1.868571\n",
       "Judge        1.668868\n",
       "Sheriff      1.600926\n",
       "Guardian     1.577143\n",
       "Classic      1.501852\n",
       "Bulldog      1.369444\n",
       "Frenzy       1.266038\n",
       "Marshal      1.135849\n",
       "Stinger      0.903810\n",
       "Bucky        0.790909\n",
       "Shorty       0.699048\n",
       "Name: Kills Per Match, dtype: float64"
      ]
     },
     "execution_count": 123,
     "metadata": {},
     "output_type": "execute_result"
    }
   ],
   "source": [
    "weapons.groupby(\"Weapon Name\")[\"Kills Per Match\"].mean().sort_values(ascending=False)"
   ]
  },
  {
   "cell_type": "markdown",
   "metadata": {},
   "source": [
    "What about for each map?"
   ]
  },
  {
   "cell_type": "code",
   "execution_count": 124,
   "metadata": {},
   "outputs": [
    {
     "data": {
      "image/png": "[encoded data removed]",
      "text/plain": [
       "<Figure size 1080x720 with 1 Axes>"
      ]
     },
     "metadata": {},
     "output_type": "display_data"
    }
   ],
   "source": [
    "figure, axis = plt.subplots(figsize=(15, 10));\n",
    "plt.title(\"Kills Per Match for Each Weapon on Each Map\")\n",
    "sns.set_style('dark')\n",
    "sns.barplot(x=\"Weapon Name\", y=\"Kills Per Match\", hue=\"Map Name\", data=weapons, ci=None, color='purple');"
   ]
  },
  {
   "cell_type": "markdown",
   "metadata": {},
   "source": [
    "4. Is there a correlation between kills per match and headshots? "
   ]
  },
  {
   "cell_type": "code",
   "execution_count": 125,
   "metadata": {},
   "outputs": [
    {
     "data": {
      "image/png": "[encoded data removed]",
      "text/plain": [
       "<Figure size 576x576 with 1 Axes>"
      ]
     },
     "metadata": {},
     "output_type": "display_data"
    }
   ],
   "source": [
    "figure, axis = plt.subplots(figsize=(8, 8));\n",
    "sns.set_style(\"white\")\n",
    "plt.title(\"Kills Per Match vs. Headshots\")\n",
    "sns.scatterplot(y=\"Kills Per Match\", x=\"Headshot\", data=weapons, color=\"purple\");"
   ]
  },
  {
   "cell_type": "markdown",
   "metadata": {},
   "source": [
    "What about kills per match and bodyshots?"
   ]
  },
  {
   "cell_type": "code",
   "execution_count": 126,
   "metadata": {},
   "outputs": [
    {
     "data": {
      "image/png": "[encoded data removed]",
      "text/plain": [
       "<Figure size 576x576 with 1 Axes>"
      ]
     },
     "metadata": {},
     "output_type": "display_data"
    }
   ],
   "source": [
    "figure, axis = plt.subplots(figsize=(8, 8));\n",
    "sns.set_style(\"white\")\n",
    "plt.title(\"Kills Per Match vs. Bodyshots\")\n",
    "sns.scatterplot(y=\"Kills Per Match\", x=\"Bodyshot\", data=weapons, color=\"purple\");"
   ]
  },
  {
   "cell_type": "markdown",
   "metadata": {},
   "source": [
    "What about kills per match and legshots?"
   ]
  },
  {
   "cell_type": "code",
   "execution_count": 127,
   "metadata": {},
   "outputs": [
    {
     "data": {
      "image/png": "[encoded data removed]",
      "text/plain": [
       "<Figure size 576x576 with 1 Axes>"
      ]
     },
     "metadata": {},
     "output_type": "display_data"
    }
   ],
   "source": [
    "figure, axis = plt.subplots(figsize=(8, 8));\n",
    "sns.set_style(\"white\")\n",
    "plt.title(\"Kills Per Match vs. Legshots\")\n",
    "sns.scatterplot(y=\"Kills Per Match\", x=\"Legshot\", data=weapons, color=\"purple\");"
   ]
  },
  {
   "cell_type": "markdown",
   "metadata": {},
   "source": [
    "Agent Centered Questions"
   ]
  },
  {
   "cell_type": "markdown",
   "metadata": {},
   "source": [
    "5. Which character performs the best on each map (using ACS, Average Combat Score, as the measurement)?"
   ]
  },
  {
   "cell_type": "code",
   "execution_count": 128,
   "metadata": {},
   "outputs": [
    {
     "data": {
      "text/html": [
       "<div>\n",
       "<style scoped>\n",
       "    .dataframe tbody tr th:only-of-type {\n",
       "        vertical-align: middle;\n",
       "    }\n",
       "\n",
       "    .dataframe tbody tr th {\n",
       "        vertical-align: top;\n",
       "    }\n",
       "\n",
       "    .dataframe thead th {\n",
       "        text-align: right;\n",
       "    }\n",
       "</style>\n",
       "<table border=\"1\" class=\"dataframe\">\n",
       "  <thead>\n",
       "    <tr style=\"text-align: right;\">\n",
       "      <th></th>\n",
       "      <th>Agent Name</th>\n",
       "      <th>KD</th>\n",
       "      <th>Kills</th>\n",
       "      <th>Deaths</th>\n",
       "      <th>Assists</th>\n",
       "      <th>Win Rate</th>\n",
       "      <th>Pick Rate</th>\n",
       "      <th>ACS</th>\n",
       "      <th>First Blood</th>\n",
       "      <th>Num Matches</th>\n",
       "      <th>tier</th>\n",
       "      <th>Map Name</th>\n",
       "    </tr>\n",
       "  </thead>\n",
       "  <tbody>\n",
       "    <tr>\n",
       "      <th>1</th>\n",
       "      <td>Reyna</td>\n",
       "      <td>1.38</td>\n",
       "      <td>18.0</td>\n",
       "      <td>13.0</td>\n",
       "      <td>3.7</td>\n",
       "      <td>45.5</td>\n",
       "      <td>17.5</td>\n",
       "      <td>292</td>\n",
       "      <td>16.2</td>\n",
       "      <td>NaN</td>\n",
       "      <td>20</td>\n",
       "      <td>all</td>\n",
       "    </tr>\n",
       "    <tr>\n",
       "      <th>5</th>\n",
       "      <td>Raze</td>\n",
       "      <td>2.30</td>\n",
       "      <td>23.0</td>\n",
       "      <td>10.0</td>\n",
       "      <td>5.0</td>\n",
       "      <td>100.0</td>\n",
       "      <td>6.3</td>\n",
       "      <td>350</td>\n",
       "      <td>21.7</td>\n",
       "      <td>NaN</td>\n",
       "      <td>20</td>\n",
       "      <td>ascent</td>\n",
       "    </tr>\n",
       "    <tr>\n",
       "      <th>14</th>\n",
       "      <td>Astra</td>\n",
       "      <td>1.46</td>\n",
       "      <td>25.3</td>\n",
       "      <td>17.3</td>\n",
       "      <td>7.3</td>\n",
       "      <td>33.3</td>\n",
       "      <td>0.6</td>\n",
       "      <td>299</td>\n",
       "      <td>11.8</td>\n",
       "      <td>153.0</td>\n",
       "      <td>5</td>\n",
       "      <td>bind</td>\n",
       "    </tr>\n",
       "    <tr>\n",
       "      <th>14</th>\n",
       "      <td>Breach</td>\n",
       "      <td>1.50</td>\n",
       "      <td>24.0</td>\n",
       "      <td>16.0</td>\n",
       "      <td>7.0</td>\n",
       "      <td>50.0</td>\n",
       "      <td>0.3</td>\n",
       "      <td>281</td>\n",
       "      <td>14.6</td>\n",
       "      <td>102.0</td>\n",
       "      <td>10</td>\n",
       "      <td>breeze</td>\n",
       "    </tr>\n",
       "    <tr>\n",
       "      <th>14</th>\n",
       "      <td>Yoru</td>\n",
       "      <td>1.95</td>\n",
       "      <td>19.5</td>\n",
       "      <td>10.0</td>\n",
       "      <td>2.5</td>\n",
       "      <td>50.0</td>\n",
       "      <td>1.0</td>\n",
       "      <td>309</td>\n",
       "      <td>7.7</td>\n",
       "      <td>102.0</td>\n",
       "      <td>18</td>\n",
       "      <td>haven</td>\n",
       "    </tr>\n",
       "    <tr>\n",
       "      <th>12</th>\n",
       "      <td>Astra</td>\n",
       "      <td>1.67</td>\n",
       "      <td>25.0</td>\n",
       "      <td>15.0</td>\n",
       "      <td>3.0</td>\n",
       "      <td>100.0</td>\n",
       "      <td>0.9</td>\n",
       "      <td>290</td>\n",
       "      <td>12.0</td>\n",
       "      <td>51.0</td>\n",
       "      <td>16</td>\n",
       "      <td>split</td>\n",
       "    </tr>\n",
       "  </tbody>\n",
       "</table>\n",
       "</div>"
      ],
      "text/plain": [
       "   Agent Name    KD  Kills  Deaths  Assists  Win Rate  Pick Rate  ACS  \\\n",
       "1       Reyna  1.38   18.0    13.0      3.7      45.5       17.5  292   \n",
       "5        Raze  2.30   23.0    10.0      5.0     100.0        6.3  350   \n",
       "14      Astra  1.46   25.3    17.3      7.3      33.3        0.6  299   \n",
       "14     Breach  1.50   24.0    16.0      7.0      50.0        0.3  281   \n",
       "14       Yoru  1.95   19.5    10.0      2.5      50.0        1.0  309   \n",
       "12      Astra  1.67   25.0    15.0      3.0     100.0        0.9  290   \n",
       "\n",
       "    First Blood  Num Matches  tier Map Name  \n",
       "1          16.2          NaN    20      all  \n",
       "5          21.7          NaN    20   ascent  \n",
       "14         11.8        153.0     5     bind  \n",
       "14         14.6        102.0    10   breeze  \n",
       "14          7.7        102.0    18    haven  \n",
       "12         12.0         51.0    16    split  "
      ]
     },
     "execution_count": 128,
     "metadata": {},
     "output_type": "execute_result"
    }
   ],
   "source": [
    "agents.sort_values(\"ACS\").groupby(\"Map Name\").tail(1).sort_values(\"Map Name\")"
   ]
  },
  {
   "cell_type": "markdown",
   "metadata": {},
   "source": [
    "this measurement takes the highest ACS"
   ]
  },
  {
   "cell_type": "markdown",
   "metadata": {},
   "source": [
    "What about average ACS?"
   ]
  },
  {
   "cell_type": "markdown",
   "metadata": {},
   "source": [
    "6. What is the average ACS for each character?"
   ]
  },
  {
   "cell_type": "code",
   "execution_count": 129,
   "metadata": {},
   "outputs": [
    {
     "data": {
      "text/plain": [
       "Agent Name\n",
       "Reyna        245.452830\n",
       "Jett         236.857143\n",
       "Raze         231.882353\n",
       "Phoenix      226.857143\n",
       "Yoru         210.440860\n",
       "Viper        198.485437\n",
       "Killjoy      198.213592\n",
       "Omen         197.514851\n",
       "Sova         197.303922\n",
       "Brimstone    197.071429\n",
       "Astra        194.326316\n",
       "Skye         193.147059\n",
       "Breach       192.876289\n",
       "Cypher       189.815534\n",
       "Sage         188.571429\n",
       "Name: ACS, dtype: float64"
      ]
     },
     "execution_count": 129,
     "metadata": {},
     "output_type": "execute_result"
    }
   ],
   "source": [
    "agents.groupby(\"Agent Name\")[\"ACS\"].mean().sort_values(ascending=False)"
   ]
  },
  {
   "cell_type": "markdown",
   "metadata": {},
   "source": [
    "Do these stats change based on the tier?"
   ]
  },
  {
   "cell_type": "markdown",
   "metadata": {},
   "source": [
    "7. Which character performs the best on each map (using ACS, Average Combat Score, as the measurement) for each tier?"
   ]
  },
  {
   "cell_type": "code",
   "execution_count": 130,
   "metadata": {},
   "outputs": [
    {
     "data": {
      "text/html": [
       "<div>\n",
       "<style scoped>\n",
       "    .dataframe tbody tr th:only-of-type {\n",
       "        vertical-align: middle;\n",
       "    }\n",
       "\n",
       "    .dataframe tbody tr th {\n",
       "        vertical-align: top;\n",
       "    }\n",
       "\n",
       "    .dataframe thead th {\n",
       "        text-align: right;\n",
       "    }\n",
       "</style>\n",
       "<table border=\"1\" class=\"dataframe\">\n",
       "  <thead>\n",
       "    <tr style=\"text-align: right;\">\n",
       "      <th></th>\n",
       "      <th>Agent Name</th>\n",
       "      <th>KD</th>\n",
       "      <th>Kills</th>\n",
       "      <th>Deaths</th>\n",
       "      <th>Assists</th>\n",
       "      <th>Win Rate</th>\n",
       "      <th>Pick Rate</th>\n",
       "      <th>ACS</th>\n",
       "      <th>First Blood</th>\n",
       "      <th>Num Matches</th>\n",
       "      <th>tier</th>\n",
       "      <th>Map Name</th>\n",
       "    </tr>\n",
       "  </thead>\n",
       "  <tbody>\n",
       "    <tr>\n",
       "      <th>2</th>\n",
       "      <td>Reyna</td>\n",
       "      <td>1.25</td>\n",
       "      <td>18.6</td>\n",
       "      <td>14.8</td>\n",
       "      <td>4.3</td>\n",
       "      <td>41.7</td>\n",
       "      <td>9.6</td>\n",
       "      <td>274</td>\n",
       "      <td>14.3</td>\n",
       "      <td>612.0</td>\n",
       "      <td>3</td>\n",
       "      <td>ascent</td>\n",
       "    </tr>\n",
       "    <tr>\n",
       "      <th>6</th>\n",
       "      <td>Jett</td>\n",
       "      <td>1.49</td>\n",
       "      <td>18.7</td>\n",
       "      <td>12.6</td>\n",
       "      <td>3.7</td>\n",
       "      <td>55.6</td>\n",
       "      <td>8.0</td>\n",
       "      <td>267</td>\n",
       "      <td>12.5</td>\n",
       "      <td>NaN</td>\n",
       "      <td>4</td>\n",
       "      <td>haven</td>\n",
       "    </tr>\n",
       "    <tr>\n",
       "      <th>14</th>\n",
       "      <td>Astra</td>\n",
       "      <td>1.46</td>\n",
       "      <td>25.3</td>\n",
       "      <td>17.3</td>\n",
       "      <td>7.3</td>\n",
       "      <td>33.3</td>\n",
       "      <td>0.6</td>\n",
       "      <td>299</td>\n",
       "      <td>11.8</td>\n",
       "      <td>153.0</td>\n",
       "      <td>5</td>\n",
       "      <td>bind</td>\n",
       "    </tr>\n",
       "    <tr>\n",
       "      <th>9</th>\n",
       "      <td>Phoenix</td>\n",
       "      <td>1.20</td>\n",
       "      <td>18.1</td>\n",
       "      <td>15.1</td>\n",
       "      <td>4.2</td>\n",
       "      <td>41.2</td>\n",
       "      <td>5.3</td>\n",
       "      <td>262</td>\n",
       "      <td>15.9</td>\n",
       "      <td>867.0</td>\n",
       "      <td>6</td>\n",
       "      <td>split</td>\n",
       "    </tr>\n",
       "    <tr>\n",
       "      <th>1</th>\n",
       "      <td>Reyna</td>\n",
       "      <td>1.15</td>\n",
       "      <td>17.7</td>\n",
       "      <td>15.4</td>\n",
       "      <td>4.7</td>\n",
       "      <td>57.4</td>\n",
       "      <td>13.0</td>\n",
       "      <td>256</td>\n",
       "      <td>16.9</td>\n",
       "      <td>5151.0</td>\n",
       "      <td>7</td>\n",
       "      <td>haven</td>\n",
       "    </tr>\n",
       "    <tr>\n",
       "      <th>13</th>\n",
       "      <td>Yoru</td>\n",
       "      <td>1.57</td>\n",
       "      <td>20.7</td>\n",
       "      <td>13.2</td>\n",
       "      <td>4.8</td>\n",
       "      <td>50.0</td>\n",
       "      <td>1.3</td>\n",
       "      <td>319</td>\n",
       "      <td>14.5</td>\n",
       "      <td>510.0</td>\n",
       "      <td>8</td>\n",
       "      <td>ascent</td>\n",
       "    </tr>\n",
       "    <tr>\n",
       "      <th>0</th>\n",
       "      <td>Reyna</td>\n",
       "      <td>1.19</td>\n",
       "      <td>17.8</td>\n",
       "      <td>15.0</td>\n",
       "      <td>4.3</td>\n",
       "      <td>51.8</td>\n",
       "      <td>15.6</td>\n",
       "      <td>256</td>\n",
       "      <td>15.6</td>\n",
       "      <td>9945.0</td>\n",
       "      <td>9</td>\n",
       "      <td>haven</td>\n",
       "    </tr>\n",
       "    <tr>\n",
       "      <th>14</th>\n",
       "      <td>Breach</td>\n",
       "      <td>1.50</td>\n",
       "      <td>24.0</td>\n",
       "      <td>16.0</td>\n",
       "      <td>7.0</td>\n",
       "      <td>50.0</td>\n",
       "      <td>0.3</td>\n",
       "      <td>281</td>\n",
       "      <td>14.6</td>\n",
       "      <td>102.0</td>\n",
       "      <td>10</td>\n",
       "      <td>breeze</td>\n",
       "    </tr>\n",
       "    <tr>\n",
       "      <th>0</th>\n",
       "      <td>Reyna</td>\n",
       "      <td>1.24</td>\n",
       "      <td>18.4</td>\n",
       "      <td>14.8</td>\n",
       "      <td>3.8</td>\n",
       "      <td>53.8</td>\n",
       "      <td>18.2</td>\n",
       "      <td>266</td>\n",
       "      <td>17.4</td>\n",
       "      <td>4743.0</td>\n",
       "      <td>11</td>\n",
       "      <td>haven</td>\n",
       "    </tr>\n",
       "    <tr>\n",
       "      <th>6</th>\n",
       "      <td>Raze</td>\n",
       "      <td>1.27</td>\n",
       "      <td>19.3</td>\n",
       "      <td>15.3</td>\n",
       "      <td>5.2</td>\n",
       "      <td>66.7</td>\n",
       "      <td>6.1</td>\n",
       "      <td>274</td>\n",
       "      <td>16.7</td>\n",
       "      <td>918.0</td>\n",
       "      <td>12</td>\n",
       "      <td>haven</td>\n",
       "    </tr>\n",
       "    <tr>\n",
       "      <th>1</th>\n",
       "      <td>Reyna</td>\n",
       "      <td>1.28</td>\n",
       "      <td>19.7</td>\n",
       "      <td>15.4</td>\n",
       "      <td>4.7</td>\n",
       "      <td>46.5</td>\n",
       "      <td>15.3</td>\n",
       "      <td>276</td>\n",
       "      <td>13.2</td>\n",
       "      <td>2193.0</td>\n",
       "      <td>13</td>\n",
       "      <td>split</td>\n",
       "    </tr>\n",
       "    <tr>\n",
       "      <th>8</th>\n",
       "      <td>Raze</td>\n",
       "      <td>1.21</td>\n",
       "      <td>18.0</td>\n",
       "      <td>14.9</td>\n",
       "      <td>4.5</td>\n",
       "      <td>53.3</td>\n",
       "      <td>5.0</td>\n",
       "      <td>258</td>\n",
       "      <td>14.1</td>\n",
       "      <td>765.0</td>\n",
       "      <td>14</td>\n",
       "      <td>ascent</td>\n",
       "    </tr>\n",
       "    <tr>\n",
       "      <th>3</th>\n",
       "      <td>Jett</td>\n",
       "      <td>1.43</td>\n",
       "      <td>20.9</td>\n",
       "      <td>14.6</td>\n",
       "      <td>4.3</td>\n",
       "      <td>90.0</td>\n",
       "      <td>11.2</td>\n",
       "      <td>280</td>\n",
       "      <td>23.0</td>\n",
       "      <td>1020.0</td>\n",
       "      <td>15</td>\n",
       "      <td>split</td>\n",
       "    </tr>\n",
       "    <tr>\n",
       "      <th>12</th>\n",
       "      <td>Astra</td>\n",
       "      <td>1.67</td>\n",
       "      <td>25.0</td>\n",
       "      <td>15.0</td>\n",
       "      <td>3.0</td>\n",
       "      <td>100.0</td>\n",
       "      <td>0.9</td>\n",
       "      <td>290</td>\n",
       "      <td>12.0</td>\n",
       "      <td>51.0</td>\n",
       "      <td>16</td>\n",
       "      <td>split</td>\n",
       "    </tr>\n",
       "    <tr>\n",
       "      <th>13</th>\n",
       "      <td>Breach</td>\n",
       "      <td>1.26</td>\n",
       "      <td>24.0</td>\n",
       "      <td>19.0</td>\n",
       "      <td>10.0</td>\n",
       "      <td>100.0</td>\n",
       "      <td>0.7</td>\n",
       "      <td>287</td>\n",
       "      <td>8.3</td>\n",
       "      <td>51.0</td>\n",
       "      <td>17</td>\n",
       "      <td>bind</td>\n",
       "    </tr>\n",
       "    <tr>\n",
       "      <th>14</th>\n",
       "      <td>Yoru</td>\n",
       "      <td>1.95</td>\n",
       "      <td>19.5</td>\n",
       "      <td>10.0</td>\n",
       "      <td>2.5</td>\n",
       "      <td>50.0</td>\n",
       "      <td>1.0</td>\n",
       "      <td>309</td>\n",
       "      <td>7.7</td>\n",
       "      <td>102.0</td>\n",
       "      <td>18</td>\n",
       "      <td>haven</td>\n",
       "    </tr>\n",
       "    <tr>\n",
       "      <th>0</th>\n",
       "      <td>Jett</td>\n",
       "      <td>1.29</td>\n",
       "      <td>20.4</td>\n",
       "      <td>15.7</td>\n",
       "      <td>3.9</td>\n",
       "      <td>63.2</td>\n",
       "      <td>27.5</td>\n",
       "      <td>274</td>\n",
       "      <td>21.7</td>\n",
       "      <td>NaN</td>\n",
       "      <td>19</td>\n",
       "      <td>haven</td>\n",
       "    </tr>\n",
       "    <tr>\n",
       "      <th>5</th>\n",
       "      <td>Raze</td>\n",
       "      <td>2.30</td>\n",
       "      <td>23.0</td>\n",
       "      <td>10.0</td>\n",
       "      <td>5.0</td>\n",
       "      <td>100.0</td>\n",
       "      <td>6.3</td>\n",
       "      <td>350</td>\n",
       "      <td>21.7</td>\n",
       "      <td>NaN</td>\n",
       "      <td>20</td>\n",
       "      <td>ascent</td>\n",
       "    </tr>\n",
       "  </tbody>\n",
       "</table>\n",
       "</div>"
      ],
      "text/plain": [
       "   Agent Name    KD  Kills  Deaths  Assists  Win Rate  Pick Rate  ACS  \\\n",
       "2       Reyna  1.25   18.6    14.8      4.3      41.7        9.6  274   \n",
       "6        Jett  1.49   18.7    12.6      3.7      55.6        8.0  267   \n",
       "14      Astra  1.46   25.3    17.3      7.3      33.3        0.6  299   \n",
       "9     Phoenix  1.20   18.1    15.1      4.2      41.2        5.3  262   \n",
       "1       Reyna  1.15   17.7    15.4      4.7      57.4       13.0  256   \n",
       "13       Yoru  1.57   20.7    13.2      4.8      50.0        1.3  319   \n",
       "0       Reyna  1.19   17.8    15.0      4.3      51.8       15.6  256   \n",
       "14     Breach  1.50   24.0    16.0      7.0      50.0        0.3  281   \n",
       "0       Reyna  1.24   18.4    14.8      3.8      53.8       18.2  266   \n",
       "6        Raze  1.27   19.3    15.3      5.2      66.7        6.1  274   \n",
       "1       Reyna  1.28   19.7    15.4      4.7      46.5       15.3  276   \n",
       "8        Raze  1.21   18.0    14.9      4.5      53.3        5.0  258   \n",
       "3        Jett  1.43   20.9    14.6      4.3      90.0       11.2  280   \n",
       "12      Astra  1.67   25.0    15.0      3.0     100.0        0.9  290   \n",
       "13     Breach  1.26   24.0    19.0     10.0     100.0        0.7  287   \n",
       "14       Yoru  1.95   19.5    10.0      2.5      50.0        1.0  309   \n",
       "0        Jett  1.29   20.4    15.7      3.9      63.2       27.5  274   \n",
       "5        Raze  2.30   23.0    10.0      5.0     100.0        6.3  350   \n",
       "\n",
       "    First Blood  Num Matches  tier Map Name  \n",
       "2          14.3        612.0     3   ascent  \n",
       "6          12.5          NaN     4    haven  \n",
       "14         11.8        153.0     5     bind  \n",
       "9          15.9        867.0     6    split  \n",
       "1          16.9       5151.0     7    haven  \n",
       "13         14.5        510.0     8   ascent  \n",
       "0          15.6       9945.0     9    haven  \n",
       "14         14.6        102.0    10   breeze  \n",
       "0          17.4       4743.0    11    haven  \n",
       "6          16.7        918.0    12    haven  \n",
       "1          13.2       2193.0    13    split  \n",
       "8          14.1        765.0    14   ascent  \n",
       "3          23.0       1020.0    15    split  \n",
       "12         12.0         51.0    16    split  \n",
       "13          8.3         51.0    17     bind  \n",
       "14          7.7        102.0    18    haven  \n",
       "0          21.7          NaN    19    haven  \n",
       "5          21.7          NaN    20   ascent  "
      ]
     },
     "execution_count": 130,
     "metadata": {},
     "output_type": "execute_result"
    }
   ],
   "source": [
    "agents.sort_values(\"ACS\").groupby(\"tier\").tail(1).sort_values(\"tier\")"
   ]
  },
  {
   "cell_type": "markdown",
   "metadata": {},
   "source": [
    "8. What is the average ACS for each character for each tier?"
   ]
  },
  {
   "cell_type": "code",
   "execution_count": 131,
   "metadata": {},
   "outputs": [
    {
     "data": {
      "image/png": "[encoded data removed]",
      "text/plain": [
       "<Figure size 1800x864 with 1 Axes>"
      ]
     },
     "metadata": {},
     "output_type": "display_data"
    }
   ],
   "source": [
    "figure, axis = plt.subplots(figsize=(25, 12));\n",
    "sns.barplot(x=agents.groupby(['tier','Agent Name'])[\"Agent Name\"].first() , y=agents.groupby(['tier','Agent Name'])[\"ACS\"].mean(), hue=agents.groupby(['tier','Agent Name'])[\"tier\"].first() );\n",
    "plt.title(\"ACS for each character in each tier\");"
   ]
  },
  {
   "cell_type": "markdown",
   "metadata": {},
   "source": [
    "9. Which character has the highest average win rate?"
   ]
  },
  {
   "cell_type": "code",
   "execution_count": 132,
   "metadata": {},
   "outputs": [
    {
     "data": {
      "text/plain": [
       "Agent Name\n",
       "Raze         52.141176\n",
       "Viper        51.989320\n",
       "Killjoy      51.833010\n",
       "Jett         51.745714\n",
       "Sage         51.586667\n",
       "Skye         50.891176\n",
       "Omen         50.684158\n",
       "Brimstone    49.765306\n",
       "Phoenix      49.332653\n",
       "Reyna        49.066038\n",
       "Breach       48.812371\n",
       "Sova         47.022549\n",
       "Astra        46.889474\n",
       "Cypher       44.902913\n",
       "Yoru         41.998925\n",
       "Name: Win Rate, dtype: float64"
      ]
     },
     "execution_count": 132,
     "metadata": {},
     "output_type": "execute_result"
    }
   ],
   "source": [
    "agents.groupby(['Agent Name'])[\"Win Rate\"].mean().sort_values(ascending=False)"
   ]
  },
  {
   "cell_type": "markdown",
   "metadata": {},
   "source": [
    "10. Who is the most commonly picked character?"
   ]
  },
  {
   "cell_type": "code",
   "execution_count": 133,
   "metadata": {},
   "outputs": [
    {
     "data": {
      "text/plain": [
       "Agent Name\n",
       "Reyna        14.820755\n",
       "Jett         14.493333\n",
       "Sage         14.421905\n",
       "Omen          8.129703\n",
       "Raze          8.094118\n",
       "Sova          7.722549\n",
       "Killjoy       6.761165\n",
       "Viper         5.627184\n",
       "Cypher        4.781553\n",
       "Phoenix       4.705102\n",
       "Brimstone     4.118367\n",
       "Skye          3.738235\n",
       "Yoru          2.319355\n",
       "Breach        1.946392\n",
       "Astra         1.469474\n",
       "Name: Pick Rate, dtype: float64"
      ]
     },
     "execution_count": 133,
     "metadata": {},
     "output_type": "execute_result"
    }
   ],
   "source": [
    "agents.groupby(['Agent Name'])[\"Pick Rate\"].mean().sort_values(ascending=False)"
   ]
  },
  {
   "cell_type": "markdown",
   "metadata": {},
   "source": [
    "11. Map can change agent effectiveness, so what are the agent's average win rate for each map?"
   ]
  },
  {
   "cell_type": "code",
   "execution_count": 134,
   "metadata": {},
   "outputs": [
    {
     "data": {
      "text/plain": [
       "Map Name  Agent Name\n",
       "all       Astra         45.361111\n",
       "          Breach        49.570588\n",
       "          Brimstone     51.855556\n",
       "          Cypher        47.072222\n",
       "          Jett          50.605556\n",
       "                          ...    \n",
       "split     Sage          55.031250\n",
       "          Skye          55.718750\n",
       "          Sova          30.478571\n",
       "          Viper         53.037500\n",
       "          Yoru          44.361538\n",
       "Name: Win Rate, Length: 90, dtype: float64"
      ]
     },
     "execution_count": 134,
     "metadata": {},
     "output_type": "execute_result"
    }
   ],
   "source": [
    "agents.groupby([\"Map Name\", \"Agent Name\"])[\"Win Rate\"].mean()"
   ]
  },
  {
   "cell_type": "code",
   "execution_count": 135,
   "metadata": {},
   "outputs": [
    {
     "data": {
      "text/plain": [
       "Map Name  Agent Name\n",
       "bind      Breach        62.281250\n",
       "          Viper         58.188889\n",
       "          Killjoy       56.323529\n",
       "split     Astra         56.264286\n",
       "ascent    Omen          55.923529\n",
       "                          ...    \n",
       "haven     Yoru          40.160000\n",
       "bind      Astra         38.468750\n",
       "breeze    Cypher        38.183333\n",
       "ascent    Yoru          35.806250\n",
       "split     Sova          30.478571\n",
       "Name: Win Rate, Length: 90, dtype: float64"
      ]
     },
     "execution_count": 135,
     "metadata": {},
     "output_type": "execute_result"
    }
   ],
   "source": [
    "agents.groupby([\"Map Name\", \"Agent Name\"])[\"Win Rate\"].mean().sort_values(ascending=False)"
   ]
  },
  {
   "cell_type": "markdown",
   "metadata": {},
   "source": [
    "12. What is the average kill death ratio for each character?"
   ]
  },
  {
   "cell_type": "code",
   "execution_count": 136,
   "metadata": {},
   "outputs": [
    {
     "data": {
      "image/png": "[encoded data removed]",
      "text/plain": [
       "<Figure size 576x576 with 1 Axes>"
      ]
     },
     "metadata": {},
     "output_type": "display_data"
    }
   ],
   "source": [
    "figure, axis = plt.subplots(figsize=(8, 8));\n",
    "plt.title(\"Average Kill-Death Ratio for Each Agent\")\n",
    "sns.set_style('white')\n",
    "sns.scatterplot(x=agents.groupby(\"Agent Name\")[\"Kills\"].mean(), y=agents.groupby(\"Agent Name\")[\"Deaths\"].mean(), hue=agents.groupby(\"Agent Name\")[\"Agent Name\"].first(), palette='CMRmap');"
   ]
  },
  {
   "cell_type": "markdown",
   "metadata": {},
   "source": [
    "13.  Does each agent fit their \"role\" on average?"
   ]
  },
  {
   "cell_type": "markdown",
   "metadata": {},
   "source": [
    "Duelists: first to enter sites and engage enemies. Should have high kills, deaths, first bloods, and low assists"
   ]
  },
  {
   "cell_type": "code",
   "execution_count": 137,
   "metadata": {},
   "outputs": [
    {
     "data": {
      "text/html": [
       "<div>\n",
       "<style scoped>\n",
       "    .dataframe tbody tr th:only-of-type {\n",
       "        vertical-align: middle;\n",
       "    }\n",
       "\n",
       "    .dataframe tbody tr th {\n",
       "        vertical-align: top;\n",
       "    }\n",
       "\n",
       "    .dataframe thead th {\n",
       "        text-align: right;\n",
       "    }\n",
       "</style>\n",
       "<table border=\"1\" class=\"dataframe\">\n",
       "  <thead>\n",
       "    <tr style=\"text-align: right;\">\n",
       "      <th></th>\n",
       "      <th>Kills</th>\n",
       "      <th>Deaths</th>\n",
       "      <th>Assists</th>\n",
       "      <th>First Blood</th>\n",
       "    </tr>\n",
       "    <tr>\n",
       "      <th>Agent Name</th>\n",
       "      <th></th>\n",
       "      <th></th>\n",
       "      <th></th>\n",
       "      <th></th>\n",
       "    </tr>\n",
       "  </thead>\n",
       "  <tbody>\n",
       "    <tr>\n",
       "      <th>Jett</th>\n",
       "      <td>16.614286</td>\n",
       "      <td>15.277143</td>\n",
       "      <td>3.846667</td>\n",
       "      <td>18.657143</td>\n",
       "    </tr>\n",
       "    <tr>\n",
       "      <th>Phoenix</th>\n",
       "      <td>15.459184</td>\n",
       "      <td>15.084694</td>\n",
       "      <td>4.204082</td>\n",
       "      <td>16.958163</td>\n",
       "    </tr>\n",
       "    <tr>\n",
       "      <th>Raze</th>\n",
       "      <td>15.433333</td>\n",
       "      <td>15.204902</td>\n",
       "      <td>4.887255</td>\n",
       "      <td>15.409804</td>\n",
       "    </tr>\n",
       "    <tr>\n",
       "      <th>Reyna</th>\n",
       "      <td>16.950000</td>\n",
       "      <td>15.071698</td>\n",
       "      <td>4.150000</td>\n",
       "      <td>16.242453</td>\n",
       "    </tr>\n",
       "    <tr>\n",
       "      <th>Yoru</th>\n",
       "      <td>14.668817</td>\n",
       "      <td>15.620430</td>\n",
       "      <td>3.726882</td>\n",
       "      <td>15.903226</td>\n",
       "    </tr>\n",
       "  </tbody>\n",
       "</table>\n",
       "</div>"
      ],
      "text/plain": [
       "                Kills     Deaths   Assists  First Blood\n",
       "Agent Name                                             \n",
       "Jett        16.614286  15.277143  3.846667    18.657143\n",
       "Phoenix     15.459184  15.084694  4.204082    16.958163\n",
       "Raze        15.433333  15.204902  4.887255    15.409804\n",
       "Reyna       16.950000  15.071698  4.150000    16.242453\n",
       "Yoru        14.668817  15.620430  3.726882    15.903226"
      ]
     },
     "execution_count": 137,
     "metadata": {},
     "output_type": "execute_result"
    }
   ],
   "source": [
    "duelists = [\"Phoenix\", \"Jett\", \"Reyna\", \"Raze\", \"Yoru\", \"Neon\"]\n",
    "agents[agents[\"Agent Name\"].isin(duelists) ].groupby(\"Agent Name\").agg({\n",
    "    \"Kills\" : \"mean\",\n",
    "    \"Deaths\" : \"mean\",\n",
    "    \"Assists\" : \"mean\",\n",
    "    \"First Blood\" : \"mean\"\n",
    "})"
   ]
  },
  {
   "cell_type": "markdown",
   "metadata": {},
   "source": [
    "Controllers: Manipulate map to set up their team. Should have high assists, low deaths, low first bloods, and average kills"
   ]
  },
  {
   "cell_type": "code",
   "execution_count": 138,
   "metadata": {},
   "outputs": [
    {
     "data": {
      "text/html": [
       "<div>\n",
       "<style scoped>\n",
       "    .dataframe tbody tr th:only-of-type {\n",
       "        vertical-align: middle;\n",
       "    }\n",
       "\n",
       "    .dataframe tbody tr th {\n",
       "        vertical-align: top;\n",
       "    }\n",
       "\n",
       "    .dataframe thead th {\n",
       "        text-align: right;\n",
       "    }\n",
       "</style>\n",
       "<table border=\"1\" class=\"dataframe\">\n",
       "  <thead>\n",
       "    <tr style=\"text-align: right;\">\n",
       "      <th></th>\n",
       "      <th>Kills</th>\n",
       "      <th>Deaths</th>\n",
       "      <th>Assists</th>\n",
       "      <th>First Blood</th>\n",
       "    </tr>\n",
       "    <tr>\n",
       "      <th>Agent Name</th>\n",
       "      <th></th>\n",
       "      <th></th>\n",
       "      <th></th>\n",
       "      <th></th>\n",
       "    </tr>\n",
       "  </thead>\n",
       "  <tbody>\n",
       "    <tr>\n",
       "      <th>Astra</th>\n",
       "      <td>14.341053</td>\n",
       "      <td>14.567368</td>\n",
       "      <td>4.823158</td>\n",
       "      <td>9.502105</td>\n",
       "    </tr>\n",
       "    <tr>\n",
       "      <th>Brimstone</th>\n",
       "      <td>13.724490</td>\n",
       "      <td>14.930612</td>\n",
       "      <td>6.565306</td>\n",
       "      <td>11.665306</td>\n",
       "    </tr>\n",
       "    <tr>\n",
       "      <th>Omen</th>\n",
       "      <td>13.930693</td>\n",
       "      <td>14.931683</td>\n",
       "      <td>5.098020</td>\n",
       "      <td>12.263366</td>\n",
       "    </tr>\n",
       "    <tr>\n",
       "      <th>Viper</th>\n",
       "      <td>14.133981</td>\n",
       "      <td>14.362136</td>\n",
       "      <td>5.316505</td>\n",
       "      <td>11.591262</td>\n",
       "    </tr>\n",
       "  </tbody>\n",
       "</table>\n",
       "</div>"
      ],
      "text/plain": [
       "                Kills     Deaths   Assists  First Blood\n",
       "Agent Name                                             \n",
       "Astra       14.341053  14.567368  4.823158     9.502105\n",
       "Brimstone   13.724490  14.930612  6.565306    11.665306\n",
       "Omen        13.930693  14.931683  5.098020    12.263366\n",
       "Viper       14.133981  14.362136  5.316505    11.591262"
      ]
     },
     "execution_count": 138,
     "metadata": {},
     "output_type": "execute_result"
    }
   ],
   "source": [
    "controllers = [\"Astra\", \"Brimstone\", \"Omen\", \"Viper\"]\n",
    "agents[agents[\"Agent Name\"].isin(controllers) ].groupby(\"Agent Name\").agg({\n",
    "    \"Kills\" : \"mean\",\n",
    "    \"Deaths\" : \"mean\",\n",
    "    \"Assists\" : \"mean\",\n",
    "    \"First Blood\" : \"mean\"\n",
    "})"
   ]
  },
  {
   "cell_type": "markdown",
   "metadata": {},
   "source": [
    "Initiators: Challenge angles and set duelists up for pushing. Should have high assists, low first bloods, high kills, and average deaths."
   ]
  },
  {
   "cell_type": "code",
   "execution_count": 139,
   "metadata": {},
   "outputs": [
    {
     "data": {
      "text/html": [
       "<div>\n",
       "<style scoped>\n",
       "    .dataframe tbody tr th:only-of-type {\n",
       "        vertical-align: middle;\n",
       "    }\n",
       "\n",
       "    .dataframe tbody tr th {\n",
       "        vertical-align: top;\n",
       "    }\n",
       "\n",
       "    .dataframe thead th {\n",
       "        text-align: right;\n",
       "    }\n",
       "</style>\n",
       "<table border=\"1\" class=\"dataframe\">\n",
       "  <thead>\n",
       "    <tr style=\"text-align: right;\">\n",
       "      <th></th>\n",
       "      <th>Kills</th>\n",
       "      <th>Deaths</th>\n",
       "      <th>Assists</th>\n",
       "      <th>First Blood</th>\n",
       "    </tr>\n",
       "    <tr>\n",
       "      <th>Agent Name</th>\n",
       "      <th></th>\n",
       "      <th></th>\n",
       "      <th></th>\n",
       "      <th></th>\n",
       "    </tr>\n",
       "  </thead>\n",
       "  <tbody>\n",
       "    <tr>\n",
       "      <th>Breach</th>\n",
       "      <td>13.455670</td>\n",
       "      <td>15.022680</td>\n",
       "      <td>5.459794</td>\n",
       "      <td>13.838144</td>\n",
       "    </tr>\n",
       "    <tr>\n",
       "      <th>Skye</th>\n",
       "      <td>13.841176</td>\n",
       "      <td>14.856863</td>\n",
       "      <td>3.991176</td>\n",
       "      <td>12.512745</td>\n",
       "    </tr>\n",
       "    <tr>\n",
       "      <th>Sova</th>\n",
       "      <td>13.507843</td>\n",
       "      <td>14.593137</td>\n",
       "      <td>5.750000</td>\n",
       "      <td>10.271569</td>\n",
       "    </tr>\n",
       "  </tbody>\n",
       "</table>\n",
       "</div>"
      ],
      "text/plain": [
       "                Kills     Deaths   Assists  First Blood\n",
       "Agent Name                                             \n",
       "Breach      13.455670  15.022680  5.459794    13.838144\n",
       "Skye        13.841176  14.856863  3.991176    12.512745\n",
       "Sova        13.507843  14.593137  5.750000    10.271569"
      ]
     },
     "execution_count": 139,
     "metadata": {},
     "output_type": "execute_result"
    }
   ],
   "source": [
    "initiators = [\"Breach\", \"Skye\", \"Sova\", \"Fade\"]\n",
    "agents[agents[\"Agent Name\"].isin(initiators) ].groupby(\"Agent Name\").agg({\n",
    "    \"Kills\" : \"mean\",\n",
    "    \"Deaths\" : \"mean\",\n",
    "    \"Assists\" : \"mean\",\n",
    "    \"First Blood\" : \"mean\"\n",
    "})"
   ]
  },
  {
   "cell_type": "markdown",
   "metadata": {},
   "source": [
    "Sentinels: Defensive experts. Should have low everything"
   ]
  },
  {
   "cell_type": "code",
   "execution_count": 140,
   "metadata": {},
   "outputs": [
    {
     "data": {
      "text/html": [
       "<div>\n",
       "<style scoped>\n",
       "    .dataframe tbody tr th:only-of-type {\n",
       "        vertical-align: middle;\n",
       "    }\n",
       "\n",
       "    .dataframe tbody tr th {\n",
       "        vertical-align: top;\n",
       "    }\n",
       "\n",
       "    .dataframe thead th {\n",
       "        text-align: right;\n",
       "    }\n",
       "</style>\n",
       "<table border=\"1\" class=\"dataframe\">\n",
       "  <thead>\n",
       "    <tr style=\"text-align: right;\">\n",
       "      <th></th>\n",
       "      <th>Kills</th>\n",
       "      <th>Deaths</th>\n",
       "      <th>Assists</th>\n",
       "      <th>First Blood</th>\n",
       "    </tr>\n",
       "    <tr>\n",
       "      <th>Agent Name</th>\n",
       "      <th></th>\n",
       "      <th></th>\n",
       "      <th></th>\n",
       "      <th></th>\n",
       "    </tr>\n",
       "  </thead>\n",
       "  <tbody>\n",
       "    <tr>\n",
       "      <th>Cypher</th>\n",
       "      <td>13.586408</td>\n",
       "      <td>14.669903</td>\n",
       "      <td>4.135922</td>\n",
       "      <td>10.277670</td>\n",
       "    </tr>\n",
       "    <tr>\n",
       "      <th>Killjoy</th>\n",
       "      <td>13.629126</td>\n",
       "      <td>14.042718</td>\n",
       "      <td>4.057282</td>\n",
       "      <td>9.867961</td>\n",
       "    </tr>\n",
       "    <tr>\n",
       "      <th>Sage</th>\n",
       "      <td>13.372381</td>\n",
       "      <td>14.330476</td>\n",
       "      <td>4.465714</td>\n",
       "      <td>11.189524</td>\n",
       "    </tr>\n",
       "  </tbody>\n",
       "</table>\n",
       "</div>"
      ],
      "text/plain": [
       "                Kills     Deaths   Assists  First Blood\n",
       "Agent Name                                             \n",
       "Cypher      13.586408  14.669903  4.135922    10.277670\n",
       "Killjoy     13.629126  14.042718  4.057282     9.867961\n",
       "Sage        13.372381  14.330476  4.465714    11.189524"
      ]
     },
     "execution_count": 140,
     "metadata": {},
     "output_type": "execute_result"
    }
   ],
   "source": [
    "sentinels = [\"Chamber\", \"Cypher\", \"Killjoy\", \"Sage\"]\n",
    "agents[agents[\"Agent Name\"].isin(sentinels) ].groupby(\"Agent Name\").agg({\n",
    "    \"Kills\" : \"mean\",\n",
    "    \"Deaths\" : \"mean\",\n",
    "    \"Assists\" : \"mean\",\n",
    "    \"First Blood\" : \"mean\"\n",
    "})"
   ]
  },
  {
   "cell_type": "markdown",
   "metadata": {},
   "source": [
    "In general, yes agents follow roles on average."
   ]
  }
 ],
 "metadata": {
  "kernelspec": {
   "display_name": "Python 3.9.12 ('base')",
   "language": "python",
   "name": "python3"
  },
  "language_info": {
   "codemirror_mode": {
    "name": "ipython",
    "version": 3
   },
   "file_extension": ".py",
   "mimetype": "text/x-python",
   "name": "python",
   "nbconvert_exporter": "python",
   "pygments_lexer": "ipython3",
   "version": "3.9.12"
  },
  "orig_nbformat": 4,
  "vscode": {
   "interpreter": {
    "hash": "9e805095adf75da05ed82d091c33c2c4f0859fa5bd30fa8041032814983ee9b2"
   }
  }
 },
 "nbformat": 4,
 "nbformat_minor": 2
}
